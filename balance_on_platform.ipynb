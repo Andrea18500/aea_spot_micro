{
 "cells": [
  {
   "cell_type": "code",
   "execution_count": 2,
   "metadata": {},
   "outputs": [],
   "source": [
    "import pybullet as p\n",
    "import pybullet_data\n",
    "import math"
   ]
  },
  {
   "cell_type": "code",
   "execution_count": 3,
   "metadata": {},
   "outputs": [
    {
     "name": "stdout",
     "output_type": "stream",
     "text": [
      "startThreads creating 1 threads.\n",
      "starting thread 0\n",
      "started thread 0 \n",
      "argc=2\n",
      "argv[0] = --unused\n",
      "argv[1] = --start_demo_name=Physics Server\n",
      "ExampleBrowserThreadFunc started\n",
      "X11 functions dynamically loaded using dlopen/dlsym OK!\n",
      "X11 functions dynamically loaded using dlopen/dlsym OK!\n",
      "Creating context\n",
      "Created GL 3.3 context\n",
      "Direct GLX rendering context obtained\n",
      "Making context current\n",
      "GL_VENDOR=Mesa\n",
      "GL_RENDERER=llvmpipe (LLVM 18.1.8, 256 bits)\n",
      "GL_VERSION=4.5 (Core Profile) Mesa 25.0~git2412120600.6341b3~oibaf~n (git-6341b3c 2024-12-12 noble-oibaf-ppa)\n",
      "GL_SHADING_LANGUAGE_VERSION=4.50\n",
      "pthread_getconcurrency()=0\n",
      "Version = 4.5 (Core Profile) Mesa 25.0~git2412120600.6341b3~oibaf~n (git-6341b3c 2024-12-12 noble-oibaf-ppa)\n",
      "Vendor = Mesa\n",
      "Renderer = llvmpipe (LLVM 18.1.8, 256 bits)\n",
      "b3Printf: Selected demo: Physics Server\n",
      "startThreads creating 1 threads.\n",
      "starting thread 0\n",
      "started thread 0 \n",
      "MotionThreadFunc thread started\n"
     ]
    },
    {
     "name": "stdout",
     "output_type": "stream",
     "text": [
      "ven = Mesa\n",
      "ven = Mesa\n"
     ]
    }
   ],
   "source": [
    "\n",
    "# Connect to PyBullet (GUI for visualization; use DIRECT for faster training without rendering)\n",
    "p.connect(p.GUI)\n",
    "p.setAdditionalSearchPath(pybullet_data.getDataPath())  # to load plane.urdf\n",
    "p.setGravity(0, 0, -9.81)"
   ]
  },
  {
   "cell_type": "code",
   "execution_count": 7,
   "metadata": {},
   "outputs": [
    {
     "name": "stdout",
     "output_type": "stream",
     "text": [
      "b3Printf: b3Warning[examples/Importers/ImportURDFDemo/BulletUrdfImporter.cpp,126]:\n",
      "\n",
      "b3Printf: No inertial data for link, using mass=1, localinertiadiagonal = 1,1,1, identity local inertial frame\n",
      "b3Printf: b3Warning[examples/Importers/ImportURDFDemo/BulletUrdfImporter.cpp,126]:\n",
      "\n",
      "b3Printf: front_left_leg_link_cover\n",
      "b3Printf: b3Warning[examples/Importers/ImportURDFDemo/BulletUrdfImporter.cpp,126]:\n",
      "\n",
      "b3Printf: No inertial data for link, using mass=1, localinertiadiagonal = 1,1,1, identity local inertial frame\n",
      "b3Printf: b3Warning[examples/Importers/ImportURDFDemo/BulletUrdfImporter.cpp,126]:\n",
      "\n",
      "b3Printf: front_right_leg_link_cover\n",
      "b3Printf: b3Warning[examples/Importers/ImportURDFDemo/BulletUrdfImporter.cpp,126]:\n",
      "\n",
      "b3Printf: No inertial data for link, using mass=1, localinertiadiagonal = 1,1,1, identity local inertial frame\n",
      "b3Printf: b3Warning[examples/Importers/ImportURDFDemo/BulletUrdfImporter.cpp,126]:\n",
      "\n",
      "b3Printf: rear_left_leg_link_cover\n",
      "b3Printf: b3Warning[examples/Importers/ImportURDFDemo/BulletUrdfImporter.cpp,126]:\n",
      "\n",
      "b3Printf: No inertial data for link, using mass=1, localinertiadiagonal = 1,1,1, identity local inertial frame\n",
      "b3Printf: b3Warning[examples/Importers/ImportURDFDemo/BulletUrdfImporter.cpp,126]:\n",
      "\n",
      "b3Printf: rear_right_leg_link_cover\n"
     ]
    }
   ],
   "source": [
    "\n",
    "# Load the tilting plane and robot\n",
    "plane_id = p.loadURDF(\"plane.urdf\")  # floor at z=0\n",
    "start_pos = [0, 0, 0.2]  # start slightly above ground to avoid collision on load\n",
    "start_orientation = p.getQuaternionFromEuler([0, 0, 0])  # no initial rotation for robot base\n",
    "robot_id = p.loadURDF(\"spotmicroai.urdf\", start_pos, start_orientation)"
   ]
  },
  {
   "cell_type": "code",
   "execution_count": 10,
   "metadata": {},
   "outputs": [
    {
     "data": {
      "text/plain": [
       "(1,\n",
       " b'base_front',\n",
       " 4,\n",
       " -1,\n",
       " -1,\n",
       " 0,\n",
       " 0.0,\n",
       " 0.0,\n",
       " 0.0,\n",
       " -1.0,\n",
       " 0.0,\n",
       " 0.0,\n",
       " b'front_link',\n",
       " (0.0, 0.0, 0.0),\n",
       " (0.0, 0.0, 0.0),\n",
       " (0.0, 0.0, 0.0, 1.0),\n",
       " -1)"
      ]
     },
     "execution_count": 10,
     "metadata": {},
     "output_type": "execute_result"
    }
   ],
   "source": [
    "# Example of getJointInfo function output\n",
    "p.getJointInfo(robot_id, 1)"
   ]
  },
  {
   "cell_type": "code",
   "execution_count": 37,
   "metadata": {},
   "outputs": [
    {
     "name": "stdout",
     "output_type": "stream",
     "text": [
      "[(0, 'rear_link'), (1, 'front_link'), (2, 'front_left_shoulder_link'), (3, 'front_left_leg_link'), (4, 'front_left_leg_link_cover'), (5, 'front_left_foot_link'), (6, 'front_left_toe_link'), (7, 'front_right_shoulder_link'), (8, 'front_right_leg_link'), (9, 'front_right_leg_link_cover'), (10, 'front_right_foot_link'), (11, 'front_right_toe_link'), (12, 'rear_left_shoulder_link'), (13, 'rear_left_leg_link'), (14, 'rear_left_leg_link_cover'), (15, 'rear_left_foot_link'), (16, 'rear_left_toe_link'), (17, 'rear_right_shoulder_link'), (18, 'rear_right_leg_link'), (19, 'rear_right_leg_link_cover'), (20, 'rear_right_foot_link'), (21, 'rear_right_toe_link')]\n",
      "Coloring orange: rear_link\n",
      "Coloring black: front_link\n",
      "Coloring orange: front_left_shoulder_link\n",
      "Coloring orange: front_left_leg_link\n",
      "Coloring orange: front_left_leg_link_cover\n",
      "Re Coloring black as it is a cover: front_left_leg_link_cover\n",
      "Coloring orange: front_left_foot_link\n",
      "Coloring black: front_left_toe_link\n",
      "leave as it is: front_left_toe_link\n",
      "Coloring orange: front_right_shoulder_link\n",
      "Coloring orange: front_right_leg_link\n",
      "Coloring orange: front_right_leg_link_cover\n",
      "Re Coloring black as it is a cover: front_right_leg_link_cover\n",
      "Coloring orange: front_right_foot_link\n",
      "Coloring black: front_right_toe_link\n",
      "leave as it is: front_right_toe_link\n",
      "Coloring orange: rear_left_shoulder_link\n",
      "Coloring orange: rear_left_leg_link\n",
      "Coloring orange: rear_left_leg_link_cover\n",
      "Re Coloring black as it is a cover: rear_left_leg_link_cover\n",
      "Coloring orange: rear_left_foot_link\n",
      "Coloring black: rear_left_toe_link\n",
      "leave as it is: rear_left_toe_link\n",
      "Coloring orange: rear_right_shoulder_link\n",
      "Coloring orange: rear_right_leg_link\n",
      "Coloring orange: rear_right_leg_link_cover\n",
      "Re Coloring black as it is a cover: rear_right_leg_link_cover\n",
      "Coloring orange: rear_right_foot_link\n",
      "Coloring black: rear_right_toe_link\n",
      "leave as it is: rear_right_toe_link\n"
     ]
    }
   ],
   "source": [
    "# Add colors to the robot\n",
    "# Format: p.changeVisualShape(objectUniqueId, linkIndex, rgbaColor=[r, g, b, a])\n",
    "\n",
    "# Colors\n",
    "red = [0.8, 0, 0, 1]\n",
    "black = [0.2, 0.2, 0.2, 1]\n",
    "orange = [1.0, 0.5, 0.0, 1]\n",
    "\n",
    "# Main body - Red\n",
    "p.changeVisualShape(robot_id, -1, rgbaColor=[0.8, 0, 0, 1])  # Base link\n",
    "\n",
    "num_joints = p.getNumJoints(robot_id)\n",
    "links = []\n",
    "for i in range(num_joints):\n",
    "    info = p.getJointInfo(robot_id, i)\n",
    "    link_name = info[12].decode('utf-8')\n",
    "    links.append((i, link_name))\n",
    "\n",
    "print(links)\n",
    "\n",
    "# Coloring based on keywords in the link name\n",
    "for link in links:\n",
    "    if \"toe\" in link[1]:\n",
    "        p.changeVisualShape(robot_id, link[0], rgbaColor=black)\n",
    "        print(f\"Coloring black: {link[1]}\")\n",
    "    if \"foot\" in link[1]:\n",
    "        p.changeVisualShape(robot_id, link[0], rgbaColor=orange)\n",
    "        print(f\"Coloring orange: {link[1]}\")\n",
    "    elif \"leg\" in link[1]:\n",
    "        p.changeVisualShape(robot_id, link[0], rgbaColor=orange)\n",
    "        print(f\"Coloring orange: {link[1]}\")\n",
    "    elif \"shoulder\" in link[1]:\n",
    "        p.changeVisualShape(robot_id, link[0], rgbaColor=orange)\n",
    "        print(f\"Coloring orange: {link[1]}\")\n",
    "    elif \"rear_link\"==link[1]:\n",
    "        p.changeVisualShape(robot_id, link[0], rgbaColor=orange)\n",
    "        print(f\"Coloring orange: {link[1]}\")\n",
    "    elif \"front_link\"==link[1]:\n",
    "        p.changeVisualShape(robot_id, link[0], rgbaColor=black)\n",
    "        print(f\"Coloring black: {link[1]}\")\n",
    "    else:\n",
    "        print(f\"leave as it is: {link[1]}\")\n",
    "\n",
    "    # Coloring black the covers\n",
    "    if \"cover\" in link[1]:\n",
    "        p.changeVisualShape(robot_id, link[0], rgbaColor=black)\n",
    "        print(f\"Re Coloring black as it is a cover: {link[1]}\")\n"
   ]
  },
  {
   "cell_type": "code",
   "execution_count": null,
   "metadata": {},
   "outputs": [
    {
     "name": "stdout",
     "output_type": "stream",
     "text": [
      "SpotMicro has 22 links/joints.\n",
      "Index: 0, Link: rear_link\n",
      "Index: 1, Link: front_link\n",
      "Index: 2, Link: front_left_shoulder_link\n",
      "Index: 3, Link: front_left_leg_link\n",
      "Index: 4, Link: front_left_leg_link_cover\n",
      "Index: 5, Link: front_left_foot_link\n",
      "Index: 6, Link: front_left_toe_link\n",
      "Index: 7, Link: front_right_shoulder_link\n",
      "Index: 8, Link: front_right_leg_link\n",
      "Index: 9, Link: front_right_leg_link_cover\n",
      "Index: 10, Link: front_right_foot_link\n",
      "Index: 11, Link: front_right_toe_link\n",
      "Index: 12, Link: rear_left_shoulder_link\n",
      "Index: 13, Link: rear_left_leg_link\n",
      "Index: 14, Link: rear_left_leg_link_cover\n",
      "Index: 15, Link: rear_left_foot_link\n",
      "Index: 16, Link: rear_left_toe_link\n",
      "Index: 17, Link: rear_right_shoulder_link\n",
      "Index: 18, Link: rear_right_leg_link\n",
      "Index: 19, Link: rear_right_leg_link_cover\n",
      "Index: 20, Link: rear_right_foot_link\n",
      "Index: 21, Link: rear_right_toe_link\n"
     ]
    }
   ],
   "source": [
    "# Print all link names with their indices\n",
    "num_joints = p.getNumJoints(robot_id)\n",
    "print(f\"SpotMicro has {num_joints} links/joints.\")\n",
    "\n",
    "for i in range(num_joints):\n",
    "    info = p.getJointInfo(robot_id, i)\n",
    "    link_name = info[12].decode('utf-8')\n",
    "    print(f\"Index: {i}, Link: {link_name}\")"
   ]
  },
  {
   "cell_type": "code",
   "execution_count": 38,
   "metadata": {},
   "outputs": [
    {
     "name": "stdout",
     "output_type": "stream",
     "text": [
      "SpotMicro has 22 joints (including fixed parts).\n",
      "0 base_rear Fixed\n",
      "1 base_front Fixed\n",
      "2 front_left_shoulder Revolute\n",
      "3 front_left_leg Revolute\n",
      "4 front_left_leg_cover_joint Fixed\n",
      "5 front_left_foot Revolute\n",
      "6 front_left_toe Fixed\n",
      "7 front_right_shoulder Revolute\n",
      "8 front_right_leg Revolute\n",
      "9 front_right_leg_cover_joint Fixed\n",
      "10 front_right_foot Revolute\n",
      "11 front_right_toe Fixed\n",
      "12 rear_left_shoulder Revolute\n",
      "13 rear_left_leg Revolute\n",
      "14 rear_left_leg_cover_joint Fixed\n",
      "15 rear_left_foot Revolute\n",
      "16 rear_left_toe Fixed\n",
      "17 rear_right_shoulder Revolute\n",
      "18 rear_right_leg Revolute\n",
      "19 rear_right_leg_cover_joint Fixed\n",
      "20 rear_right_foot Revolute\n",
      "21 rear_right_toe Fixed\n"
     ]
    }
   ],
   "source": [
    "\n",
    "# Get joint information for debugging\n",
    "num_joints = p.getNumJoints(robot_id)\n",
    "print(f\"SpotMicro has {num_joints} joints (including fixed parts).\")\n",
    "for j in range(num_joints):\n",
    "    info = p.getJointInfo(robot_id, j)\n",
    "    joint_name = info[1].decode('utf-8')\n",
    "    joint_type = info[2]\n",
    "    print(j, joint_name, \"Revolute\" if joint_type==p.JOINT_REVOLUTE else \"Fixed\")\n",
    "\n",
    "# Example of tilting the plane by 5 degrees around the X-axis\n",
    "tilt_angle = math.radians(5)\n",
    "tilt_quat = p.getQuaternionFromEuler([tilt_angle, 0, 0])  # 5 deg tilt about X\n",
    "p.resetBasePositionAndOrientation(plane_id, [0,0,0], tilt_quat)"
   ]
  }
 ],
 "metadata": {
  "kernelspec": {
   "display_name": ".venv",
   "language": "python",
   "name": "python3"
  },
  "language_info": {
   "codemirror_mode": {
    "name": "ipython",
    "version": 3
   },
   "file_extension": ".py",
   "mimetype": "text/x-python",
   "name": "python",
   "nbconvert_exporter": "python",
   "pygments_lexer": "ipython3",
   "version": "3.12.3"
  }
 },
 "nbformat": 4,
 "nbformat_minor": 2
}
